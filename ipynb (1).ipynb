{
 "cells": [
  {
   "cell_type": "markdown",
   "metadata": {},
   "source": []
  },
  {
   "cell_type": "code",
   "execution_count": 1,
   "metadata": {},
   "outputs": [],
   "source": [
    "from collections import Counter \n",
    "import re\n",
    "import json"
   ]
  },
  {
   "cell_type": "code",
   "execution_count": 75,
   "metadata": {},
   "outputs": [
    {
     "name": "stderr",
     "output_type": "stream",
     "text": [
      "You are using pip version 10.0.1, however version 19.2.3 is available.\n",
      "You should consider upgrading via the 'python -m pip install --upgrade pip' command.\n"
     ]
    },
    {
     "name": "stdout",
     "output_type": "stream",
     "text": [
      "Requirement already satisfied: pycodestyle in c:\\program files\\python37\\lib\\site-packages (2.5.0)\n",
      "Requirement already satisfied: flake8 in c:\\program files\\python37\\lib\\site-packages (3.7.8)\n",
      "Requirement already satisfied: pycodestyle_magic in c:\\program files\\python37\\lib\\site-packages (0.4)\n",
      "Requirement already satisfied: pyflakes<2.2.0,>=2.1.0 in c:\\program files\\python37\\lib\\site-packages (from flake8) (2.1.1)\n",
      "Requirement already satisfied: mccabe<0.7.0,>=0.6.0 in c:\\program files\\python37\\lib\\site-packages (from flake8) (0.6.1)\n",
      "Requirement already satisfied: entrypoints<0.4.0,>=0.3.0 in c:\\program files\\python37\\lib\\site-packages (from flake8) (0.3)\n"
     ]
    }
   ],
   "source": [
    "! pip3 install pycodestyle flake8 pycodestyle_magic"
   ]
  },
  {
   "cell_type": "code",
   "execution_count": 74,
   "metadata": {},
   "outputs": [],
   "source": [
    "%load_ext pycodestyle_magic\n",
    "%pycodestyle_on"
   ]
  },
  {
   "cell_type": "markdown",
   "metadata": {},
   "source": [
    "#**Задание 1**\n",
    "#*Программа находит общее количество твитов.* "
   ]
  },
  {
   "cell_type": "code",
   "execution_count": 2,
   "metadata": {},
   "outputs": [],
   "source": [
    "with open('twit.json', encoding='utf-8') as f:\n",
    "    file = f.readlines()"
   ]
  },
  {
   "cell_type": "code",
   "execution_count": 3,
   "metadata": {
    "scrolled": false
   },
   "outputs": [
    {
     "name": "stdout",
     "output_type": "stream",
     "text": [
      "Всего твитов:  2556\n"
     ]
    }
   ],
   "source": [
    "count = 0\n",
    "for line in file:\n",
    "    count += 1\n",
    "print('Всего твитов: ', count)"
   ]
  },
  {
   "cell_type": "markdown",
   "metadata": {},
   "source": [
    "#**Задание 2**\n",
    "#*Программа находит количество удаленных твитов, а затем высчитывает их процент по формуле (уд/общ)*100%"
   ]
  },
  {
   "cell_type": "code",
   "execution_count": 76,
   "metadata": {},
   "outputs": [],
   "source": [
    "deleted = 0\n",
    "for line in file:\n",
    "    if 'delete' in line:\n",
    "        deleted += 1\n",
    "percent = (deleted/count)*100\n",
    "print('Процент удаленных твитов: ', percent)"
   ]
  },
  {
   "cell_type": "markdown",
   "metadata": {},
   "source": [
    "#**Задание 3**\n",
    "#*Программа составляет словарь из данных файла json, считает количество твитов на каждом языке, а затем находит 30 наиболее частых языков.*"
   ]
  },
  {
   "cell_type": "code",
   "execution_count": 77,
   "metadata": {
    "scrolled": false
   },
   "outputs": [
    {
     "name": "stderr",
     "output_type": "stream",
     "text": [
      "9:27: E225 missing whitespace around operator\n"
     ]
    }
   ],
   "source": [
    "twits = []\n",
    "lang = []\n",
    "with open('twit.json', encoding='utf-8') as f:\n",
    "    for line in f:\n",
    "        twits.append(json.loads(line))\n",
    "        for line in twits:\n",
    "            if list(line)[0] != 'delete':\n",
    "                for key in line:\n",
    "                    if key=='lang':\n",
    "                        lang.append(line[key])\n",
    "    print(Counter(lang).most_common(30))"
   ]
  },
  {
   "cell_type": "markdown",
   "metadata": {},
   "source": [
    "#**Задание 4**\n",
    "#*Программа считает количество твитов каждого пользователя, а затем считает, у скольких пользователей больше 1 твита*"
   ]
  },
  {
   "cell_type": "code",
   "execution_count": 83,
   "metadata": {},
   "outputs": [],
   "source": [
    "idi = {}\n",
    "twits = []\n",
    "count_users = 0\n",
    "with open('twit.json', encoding='utf-8') as f:\n",
    "    for line in f:\n",
    "        twits.append(json.loads(line))\n",
    "    for line in twits:\n",
    "        if list(line)[0] != 'delete':\n",
    "            usid = line['user']['id']\n",
    "            idi.setdefault(usid, 0)\n",
    "            idi[usid] += 1\n",
    "    freq = Counter(idi)\n",
    "for value in freq.values():\n",
    "    if value> 1:\n",
    "        count_users += 1\n",
    "if count_users > 0:\n",
    "    print('Таких пользователей: ', count_users)\n",
    "else:\n",
    "    print('Таких пользователей не нашлось.')"
   ]
  },
  {
   "cell_type": "markdown",
   "metadata": {},
   "source": [
    "#**Задание 5**\n",
    "#*Программа ищет по строкам ключи, относящиеся к хэштегам, и, если находит, записывает в список, а затем ранжирует его по количеству вхождений*"
   ]
  },
  {
   "cell_type": "code",
   "execution_count": 88,
   "metadata": {},
   "outputs": [],
   "source": [
    "hashtags = []\n",
    "for i in twits:\n",
    "    if ('entities' in i.keys()):\n",
    "        for j in i['entities']['hashtags']:\n",
    "            hashtags.append(j['text'])\n",
    "    elif ('extended_tweet' in i.keys()):\n",
    "        for j in i['extended_tweet']['entities']['hashtags']:\n",
    "            hasthags.append(j['text'])\n",
    "print(Counter(hashtags).most_common(20))"
   ]
  },
  {
   "cell_type": "markdown",
   "metadata": {},
   "source": [
    "#**Задание 7**\n",
    "#*Программа создает список с позициями для пользователя и количества подсписчиков, а затем сортирует его и выбирает 10 наиболее популярных пользователей*"
   ]
  },
  {
   "cell_type": "code",
   "execution_count": 96,
   "metadata": {},
   "outputs": [],
   "source": [
    "followers = []\n",
    "for i in twits:\n",
    "    if \"delete\" not in i.keys():\n",
    "        followers.append([i['user']['id'], i['user']['followers_count']])\n",
    "followers.sort(key=lambda a: a[1])\n",
    "for i in (list(reversed(followers))[:10]):\n",
    "    print(\"id: \" + str(i[0]), \"followers: \" + str(i[1]), sep='\\n')"
   ]
  },
  {
   "cell_type": "code",
   "execution_count": null,
   "metadata": {},
   "outputs": [],
   "source": []
  }
 ],
 "metadata": {
  "kernelspec": {
   "display_name": "Python 3",
   "language": "python",
   "name": "python3"
  },
  "language_info": {
   "codemirror_mode": {
    "name": "ipython",
    "version": 3
   },
   "file_extension": ".py",
   "mimetype": "text/x-python",
   "name": "python",
   "nbconvert_exporter": "python",
   "pygments_lexer": "ipython3",
   "version": "3.7.0"
  }
 },
 "nbformat": 4,
 "nbformat_minor": 2
}
